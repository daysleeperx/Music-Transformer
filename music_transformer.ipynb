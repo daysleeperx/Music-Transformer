{
 "cells": [
  {
   "cell_type": "code",
   "execution_count": null,
   "metadata": {},
   "outputs": [],
   "source": [
    "import numpy as np\n",
    "import tensorflow.compat.v1 as tf\n",
    "tf.disable_v2_behavior()\n",
    "from magenta.models.score2perf import score2perf\n",
    "from tensor2tensor.data_generators import text_encoder\n",
    "import note_seq"
   ]
  },
  {
   "attachments": {},
   "cell_type": "markdown",
   "metadata": {},
   "source": [
    "## Helper Functions"
   ]
  },
  {
   "cell_type": "code",
   "execution_count": 2,
   "metadata": {},
   "outputs": [],
   "source": [
    "def decode(ids, encoder):\n",
    "    ids = list(ids)\n",
    "    if text_encoder.EOS_ID in ids:\n",
    "        ids = ids[:ids.index(text_encoder.EOS_ID)]\n",
    "    return encoder.decode(ids)"
   ]
  },
  {
   "cell_type": "code",
   "execution_count": 3,
   "metadata": {},
   "outputs": [],
   "source": [
    "def load_midi(midi_file_path):\n",
    "    return note_seq.midi_file_to_note_sequence(midi_file_path)"
   ]
  },
  {
   "attachments": {},
   "cell_type": "markdown",
   "metadata": {},
   "source": [
    "## Unconditioned Model"
   ]
  },
  {
   "cell_type": "code",
   "execution_count": null,
   "metadata": {},
   "outputs": [],
   "source": [
    "class PianoPerformanceLanguageModelProblem(score2perf.Score2PerfProblem):\n",
    "  @property\n",
    "  def add_eos_symbol(self):\n",
    "    return True"
   ]
  },
  {
   "cell_type": "code",
   "execution_count": null,
   "metadata": {},
   "outputs": [],
   "source": [
    "problem = PianoPerformanceLanguageModelProblem()"
   ]
  },
  {
   "cell_type": "code",
   "execution_count": null,
   "metadata": {},
   "outputs": [],
   "source": [
    "from tensor2tensor import problems\n",
    "unconditional_encoders = problem.get_feature_encoders()"
   ]
  },
  {
   "cell_type": "code",
   "execution_count": null,
   "metadata": {},
   "outputs": [],
   "source": [
    "from tensor2tensor.utils import trainer_lib\n",
    "hparams = trainer_lib.create_hparams(hparams_set='transformer_tpu')\n",
    "trainer_lib.add_problem_hparams(hparams, problem)\n",
    "hparams.num_hidden_layers = 16\n",
    "hparams.sampling_method = 'random'"
   ]
  },
  {
   "cell_type": "code",
   "execution_count": null,
   "metadata": {},
   "outputs": [],
   "source": [
    "from tensor2tensor.utils import decoding\n",
    "decode_hparams = decoding.decode_hparams()\n",
    "decode_hparams.alpha = 0.0\n",
    "decode_hparams.beam_size = 1"
   ]
  },
  {
   "cell_type": "code",
   "execution_count": null,
   "metadata": {},
   "outputs": [],
   "source": [
    "run_config = trainer_lib.create_run_config(hparams)\n",
    "estimator = trainer_lib.create_estimator(\n",
    "    'transformer', hparams, run_config,\n",
    "    decode_hparams=decode_hparams)"
   ]
  },
  {
   "cell_type": "code",
   "execution_count": null,
   "metadata": {},
   "outputs": [],
   "source": [
    "ckpt_path = 'models/music_transformer/unconditional_model_16.ckpt'"
   ]
  },
  {
   "cell_type": "code",
   "execution_count": null,
   "metadata": {},
   "outputs": [],
   "source": [
    "def input_generator():\n",
    "    global targets\n",
    "    global decode_length\n",
    "    while True:\n",
    "        print('yielding', len(targets))\n",
    "        yield {\n",
    "            'targets': np.array([targets], dtype=np.int32),\n",
    "            'decode_length': np.array(decode_length, dtype=np.int32)\n",
    "        }"
   ]
  },
  {
   "cell_type": "code",
   "execution_count": null,
   "metadata": {},
   "outputs": [],
   "source": [
    "targets = []\n",
    "decode_length = 0"
   ]
  },
  {
   "cell_type": "code",
   "execution_count": null,
   "metadata": {},
   "outputs": [],
   "source": [
    "input_fn = decoding.make_input_fn_from_generator(input_generator())\n",
    "unconditional_samples = estimator.predict(\n",
    "    input_fn, checkpoint_path=ckpt_path)"
   ]
  },
  {
   "cell_type": "code",
   "execution_count": null,
   "metadata": {},
   "outputs": [],
   "source": [
    "_ = next(unconditional_samples)"
   ]
  },
  {
   "cell_type": "code",
   "execution_count": null,
   "metadata": {},
   "outputs": [],
   "source": [
    "targets = []\n",
    "decode_length = 1024\n",
    "sample_ids = next(unconditional_samples)['outputs']"
   ]
  },
  {
   "cell_type": "code",
   "execution_count": null,
   "metadata": {},
   "outputs": [],
   "source": [
    "midi_filename = decode(\n",
    "    sample_ids,\n",
    "    encoder=unconditional_encoders['targets'])"
   ]
  },
  {
   "cell_type": "code",
   "execution_count": null,
   "metadata": {},
   "outputs": [],
   "source": [
    "unconditional_ns = note_seq.midi_file_to_note_sequence(midi_filename)"
   ]
  },
  {
   "cell_type": "code",
   "execution_count": null,
   "metadata": {},
   "outputs": [],
   "source": [
    "import shutil\n",
    "shutil.copyfile(midi_filename, 'output.midi')"
   ]
  }
 ],
 "metadata": {
  "kernelspec": {
   "display_name": "venv",
   "language": "python",
   "name": "python3"
  },
  "language_info": {
   "codemirror_mode": {
    "name": "ipython",
    "version": 3
   },
   "file_extension": ".py",
   "mimetype": "text/x-python",
   "name": "python",
   "nbconvert_exporter": "python",
   "pygments_lexer": "ipython3",
   "version": "3.10.9"
  },
  "orig_nbformat": 4
 },
 "nbformat": 4,
 "nbformat_minor": 2
}
